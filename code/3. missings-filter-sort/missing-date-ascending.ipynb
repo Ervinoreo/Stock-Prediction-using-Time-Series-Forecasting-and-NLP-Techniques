{
 "cells": [
  {
   "cell_type": "code",
   "execution_count": 33,
   "metadata": {},
   "outputs": [],
   "source": [
    "import pandas as pd\n",
    "from datetime import datetime"
   ]
  },
  {
   "cell_type": "code",
   "execution_count": 34,
   "metadata": {},
   "outputs": [
    {
     "name": "stdout",
     "output_type": "stream",
     "text": [
      "                                              Headlines       Dates  \\\n",
      "0                               VW Makes Big Bet on EVs  2010-07-20   \n",
      "1     BREAKING: Honda Plans Electric Car, Plug-in Hy...  2010-07-20   \n",
      "2     Glenn Beck Going Blind Macular Degeneration - ...  2010-07-20   \n",
      "3     Ford to reveal the redesigned 2011 Explorer on...  2010-07-20   \n",
      "4                             The Sorcerer’s Apprentice  2010-07-20   \n",
      "...                                                 ...         ...   \n",
      "3161  It's electric: Tesla dealership coming to Meri...  2023-11-20   \n",
      "3173           Tesla accident sent AI anxiety up | Mint  2023-12-29   \n",
      "3171  Tesla Model 3 (Highland) test drive: Making a ...  2023-12-29   \n",
      "3172  Tesla could lose its prime spot in the EV mark...  2023-12-29   \n",
      "3174  Xiaomi has made an EV to compete with Porsche ...  2023-12-29   \n",
      "\n",
      "                                           Descriptions  \n",
      "0     Volkswagen is diving into electric vehicles wi...  \n",
      "1     Just like last week's Toyota-Tesla announcemen...  \n",
      "2     Conservative talk-show host Glenn Beck recentl...  \n",
      "3     After months of teasing about 20000 Facebook f...  \n",
      "4     With his slacker charisma and vaguely distract...  \n",
      "...                                                 ...  \n",
      "3161  It's electric: Tesla dealership coming to Meri...  \n",
      "3173  An incident at a Tesla factory in the US two y...  \n",
      "3171  The changes start on the outside with slimmer ...  \n",
      "3172  Tesla could lose its top spot in the EV market...  \n",
      "3174  Xiaomi will offer the SU7 in two versions: SU7...  \n",
      "\n",
      "[3175 rows x 3 columns]\n"
     ]
    }
   ],
   "source": [
    "# Read the CSV file into a DataFrame\n",
    "df = pd.read_csv(\"tesla_google_missing_date_raw.csv\")\n",
    "\n",
    "# Define the function to convert date strings to datetime format\n",
    "def convert_to_datetime(date_str):\n",
    "    try:\n",
    "        date_obj = datetime.strptime(date_str, \"%d %B %Y\")\n",
    "    except ValueError:\n",
    "        date_obj = datetime.strptime(date_str.replace('Sept', 'Sep'), \"%d %b %Y\")\n",
    "\n",
    "    formatted_date = date_obj.strftime(\"%Y-%m-%d\")\n",
    "    return formatted_date\n",
    "\n",
    "# Convert the \"Dates\" column to datetime format using the defined function\n",
    "df['Dates'] = df['Dates'].apply(convert_to_datetime)\n",
    "\n",
    "# Sort the DataFrame by the \"Dates\" column\n",
    "df.sort_values(by=['Dates'], inplace=True)\n",
    "\n",
    "# Print the sorted DataFrame\n",
    "print(df)\n"
   ]
  },
  {
   "cell_type": "code",
   "execution_count": 35,
   "metadata": {},
   "outputs": [],
   "source": [
    "threshold = 3\n",
    "ls = []\n",
    "unique_dates = df['Dates'].unique().tolist()\n",
    "\n",
    "for dates in unique_dates:\n",
    "    d = df.loc[df['Dates'] == dates][:threshold]\n",
    "    ls.append(d)\n",
    "df = pd.concat(ls)"
   ]
  },
  {
   "cell_type": "code",
   "execution_count": 36,
   "metadata": {},
   "outputs": [
    {
     "name": "stdout",
     "output_type": "stream",
     "text": [
      "1042\n"
     ]
    }
   ],
   "source": [
    "df.loc[df['Dates'] == '2021-08-25']\n",
    "\n",
    "print(len(df))"
   ]
  },
  {
   "cell_type": "code",
   "execution_count": 37,
   "metadata": {},
   "outputs": [
    {
     "name": "stdout",
     "output_type": "stream",
     "text": [
      "CSV file edited successfully.\n"
     ]
    }
   ],
   "source": [
    "def convert_date(date_str):\n",
    "    # Convert string to datetime object\n",
    "    date_obj = datetime.strptime(date_str, \"%Y-%m-%d\")\n",
    "    # Convert datetime object to desired format\n",
    "    formatted_date = date_obj.strftime(\"%d %b %Y\")\n",
    "    return formatted_date\n",
    "\n",
    "df['Dates'] = df['Dates'].apply(convert_date)\n",
    "\n",
    "df.to_csv('tesla_google_missing_date_ascending.csv', index=False)\n",
    "print(\"CSV file edited successfully.\")"
   ]
  },
  {
   "cell_type": "code",
   "execution_count": 38,
   "metadata": {},
   "outputs": [
    {
     "data": {
      "text/plain": [
       "\"\\nunique_dates = df['Dates'].unique().tolist()\\nprint(unique_dates)\\n\""
      ]
     },
     "execution_count": 38,
     "metadata": {},
     "output_type": "execute_result"
    }
   ],
   "source": [
    "'''\n",
    "unique_dates = df['Dates'].unique().tolist()\n",
    "print(unique_dates)\n",
    "'''"
   ]
  },
  {
   "cell_type": "code",
   "execution_count": 39,
   "metadata": {},
   "outputs": [
    {
     "data": {
      "text/plain": [
       "'\\nimport csv\\nimport pandas as pd\\nimport matplotlib.pyplot as plt\\n\\nunique_dates = set()  # Create an empty set to store unique dates\\n\\nwith open(\\'../tesla_data(Alfred)_version2.csv\\', \"r\") as file:\\n    reader = csv.reader(file)\\n    next(reader)  # Skip the header row\\n    for row in reader:\\n        date = row[1]  # Assuming the date is in the second column (index 1)\\n        unique_dates.add(date)  # Add the date to the set\\n\\nunique_dates_list = list(unique_dates)  \\n\\nall_dates = []\\n\\nwith open(\\'../../../data(stock_price)/TSLA/stock_price.csv\\', \"r\") as file:\\n    reader = csv.reader(file)\\n    next(reader)  # Skip the header row\\n    for row in reader:\\n        date = row[0]  # Assuming the date is in the second column (index 1)\\n        all_dates.append(date)  # Add the date to the set\\n\\nmissing_dates = []\\n\\nfor date in all_dates:\\n    if date not in unique_dates_list:\\n        missing_dates.append(date)\\n\\nmissing_dates.sort()\\n'"
      ]
     },
     "execution_count": 39,
     "metadata": {},
     "output_type": "execute_result"
    }
   ],
   "source": [
    "'''\n",
    "import csv\n",
    "import pandas as pd\n",
    "import matplotlib.pyplot as plt\n",
    "\n",
    "unique_dates = set()  # Create an empty set to store unique dates\n",
    "\n",
    "with open('../tesla_data(Alfred)_version2.csv', \"r\") as file:\n",
    "    reader = csv.reader(file)\n",
    "    next(reader)  # Skip the header row\n",
    "    for row in reader:\n",
    "        date = row[1]  # Assuming the date is in the second column (index 1)\n",
    "        unique_dates.add(date)  # Add the date to the set\n",
    "\n",
    "unique_dates_list = list(unique_dates)  \n",
    "\n",
    "all_dates = []\n",
    "\n",
    "with open('../../../data(stock_price)/TSLA/stock_price.csv', \"r\") as file:\n",
    "    reader = csv.reader(file)\n",
    "    next(reader)  # Skip the header row\n",
    "    for row in reader:\n",
    "        date = row[0]  # Assuming the date is in the second column (index 1)\n",
    "        all_dates.append(date)  # Add the date to the set\n",
    "\n",
    "missing_dates = []\n",
    "\n",
    "for date in all_dates:\n",
    "    if date not in unique_dates_list:\n",
    "        missing_dates.append(date)\n",
    "\n",
    "missing_dates.sort()\n",
    "'''"
   ]
  },
  {
   "cell_type": "code",
   "execution_count": 40,
   "metadata": {},
   "outputs": [
    {
     "data": {
      "text/plain": [
       "'\\nmissing = []\\n\\nfor date in missing_dates:\\n    if date not in unique_dates:\\n        missing.append(date)\\n\\nprint(missing)\\n'"
      ]
     },
     "execution_count": 40,
     "metadata": {},
     "output_type": "execute_result"
    }
   ],
   "source": [
    "'''\n",
    "missing = []\n",
    "\n",
    "for date in missing_dates:\n",
    "    if date not in unique_dates:\n",
    "        missing.append(date)\n",
    "\n",
    "print(missing)\n",
    "'''"
   ]
  }
 ],
 "metadata": {
  "kernelspec": {
   "display_name": "Python 3.10.6 ('venv')",
   "language": "python",
   "name": "python3"
  },
  "language_info": {
   "codemirror_mode": {
    "name": "ipython",
    "version": 3
   },
   "file_extension": ".py",
   "mimetype": "text/x-python",
   "name": "python",
   "nbconvert_exporter": "python",
   "pygments_lexer": "ipython3",
   "version": "3.10.6"
  },
  "vscode": {
   "interpreter": {
    "hash": "b8b607159620bee12876ecb412eb853004b7964eda41c10d210b9f9154cb407c"
   }
  }
 },
 "nbformat": 4,
 "nbformat_minor": 2
}
