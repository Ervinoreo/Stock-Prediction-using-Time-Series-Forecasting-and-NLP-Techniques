{
  "cells": [
    {
      "cell_type": "markdown",
      "source": [
        "Data Preprocessing"
      ],
      "metadata": {
        "id": "nokQPsrNRVI6"
      },
      "id": "nokQPsrNRVI6"
    },
    {
      "cell_type": "code",
      "execution_count": 1,
      "id": "276bd1c5-f64f-46cf-9d9a-eb2e3dee7b68",
      "metadata": {
        "id": "276bd1c5-f64f-46cf-9d9a-eb2e3dee7b68",
        "colab": {
          "base_uri": "https://localhost:8080/"
        },
        "outputId": "0205e828-2451-4c70-e243-a1d306c61572"
      },
      "outputs": [
        {
          "output_type": "stream",
          "name": "stdout",
          "text": [
            "Mounted at /content/drive\n"
          ]
        }
      ],
      "source": [
        "import numpy as np\n",
        "import matplotlib.pyplot as plt\n",
        "import pandas as pd\n",
        "from sklearn.metrics.pairwise import cosine_similarity\n",
        "from google.colab import drive\n",
        "\n",
        "drive.mount('/content/drive')\n",
        "\n",
        "file_path = '/content/drive/My Drive/Word_Embedding.csv'\n",
        "\n",
        "data = pd.read_csv(file_path)\n",
        "\n",
        "df = pd.DataFrame(data)"
      ]
    },
    {
      "cell_type": "code",
      "source": [
        "df.head(5)"
      ],
      "metadata": {
        "colab": {
          "base_uri": "https://localhost:8080/",
          "height": 310
        },
        "id": "xRJs9ZqRgp95",
        "outputId": "c522161b-9862-4a7e-db58-19ba314fb354"
      },
      "id": "xRJs9ZqRgp95",
      "execution_count": 2,
      "outputs": [
        {
          "output_type": "execute_result",
          "data": {
            "text/plain": [
              "        Dates  Closed Price  \\\n",
              "0  2010-06-29      1.592667   \n",
              "1  2010-06-30      1.588667   \n",
              "2  2010-07-01      1.464000   \n",
              "3  2010-07-02      1.280000   \n",
              "4  2010-07-06      1.074000   \n",
              "\n",
              "                                       Combined_Desc  Percentage_Change  \\\n",
              "0  2013 tesla roadster completely built inhouse t...                NaN   \n",
              "1  tesla roadster reaches chinas great wall tesla...          -0.251148   \n",
              "2  tesla roadster gets version 25 upgrade tesla r...          -7.847274   \n",
              "3  tesla premiers roadster 25 goodwood festival s...         -12.568307   \n",
              "4  tesla motors faces rough road electriccar busi...         -16.093748   \n",
              "\n",
              "                                     lemmatized_text  \\\n",
              "0  2013 tesla roadster completely built inhouse t...   \n",
              "1  tesla roadster reach china great wall tesla op...   \n",
              "2  tesla roadster get version 25 upgrade tesla re...   \n",
              "3  tesla premier roadster 25 goodwood festival sp...   \n",
              "4  tesla motor face rough road electriccar busine...   \n",
              "\n",
              "                                          embeddings  \n",
              "0  [0.         0.         0.05688175 0.05730079 0...  \n",
              "1  [0.         0.         0.065174   0.08753883 0...  \n",
              "2  [0.         0.         0.         0.         0...  \n",
              "3  [0.         0.         0.         0.         0...  \n",
              "4  [0.         0.         0.         0.         0...  "
            ],
            "text/html": [
              "\n",
              "  <div id=\"df-4ae00d3f-476c-4927-87db-162521fbe2d1\" class=\"colab-df-container\">\n",
              "    <div>\n",
              "<style scoped>\n",
              "    .dataframe tbody tr th:only-of-type {\n",
              "        vertical-align: middle;\n",
              "    }\n",
              "\n",
              "    .dataframe tbody tr th {\n",
              "        vertical-align: top;\n",
              "    }\n",
              "\n",
              "    .dataframe thead th {\n",
              "        text-align: right;\n",
              "    }\n",
              "</style>\n",
              "<table border=\"1\" class=\"dataframe\">\n",
              "  <thead>\n",
              "    <tr style=\"text-align: right;\">\n",
              "      <th></th>\n",
              "      <th>Dates</th>\n",
              "      <th>Closed Price</th>\n",
              "      <th>Combined_Desc</th>\n",
              "      <th>Percentage_Change</th>\n",
              "      <th>lemmatized_text</th>\n",
              "      <th>embeddings</th>\n",
              "    </tr>\n",
              "  </thead>\n",
              "  <tbody>\n",
              "    <tr>\n",
              "      <th>0</th>\n",
              "      <td>2010-06-29</td>\n",
              "      <td>1.592667</td>\n",
              "      <td>2013 tesla roadster completely built inhouse t...</td>\n",
              "      <td>NaN</td>\n",
              "      <td>2013 tesla roadster completely built inhouse t...</td>\n",
              "      <td>[0.         0.         0.05688175 0.05730079 0...</td>\n",
              "    </tr>\n",
              "    <tr>\n",
              "      <th>1</th>\n",
              "      <td>2010-06-30</td>\n",
              "      <td>1.588667</td>\n",
              "      <td>tesla roadster reaches chinas great wall tesla...</td>\n",
              "      <td>-0.251148</td>\n",
              "      <td>tesla roadster reach china great wall tesla op...</td>\n",
              "      <td>[0.         0.         0.065174   0.08753883 0...</td>\n",
              "    </tr>\n",
              "    <tr>\n",
              "      <th>2</th>\n",
              "      <td>2010-07-01</td>\n",
              "      <td>1.464000</td>\n",
              "      <td>tesla roadster gets version 25 upgrade tesla r...</td>\n",
              "      <td>-7.847274</td>\n",
              "      <td>tesla roadster get version 25 upgrade tesla re...</td>\n",
              "      <td>[0.         0.         0.         0.         0...</td>\n",
              "    </tr>\n",
              "    <tr>\n",
              "      <th>3</th>\n",
              "      <td>2010-07-02</td>\n",
              "      <td>1.280000</td>\n",
              "      <td>tesla premiers roadster 25 goodwood festival s...</td>\n",
              "      <td>-12.568307</td>\n",
              "      <td>tesla premier roadster 25 goodwood festival sp...</td>\n",
              "      <td>[0.         0.         0.         0.         0...</td>\n",
              "    </tr>\n",
              "    <tr>\n",
              "      <th>4</th>\n",
              "      <td>2010-07-06</td>\n",
              "      <td>1.074000</td>\n",
              "      <td>tesla motors faces rough road electriccar busi...</td>\n",
              "      <td>-16.093748</td>\n",
              "      <td>tesla motor face rough road electriccar busine...</td>\n",
              "      <td>[0.         0.         0.         0.         0...</td>\n",
              "    </tr>\n",
              "  </tbody>\n",
              "</table>\n",
              "</div>\n",
              "    <div class=\"colab-df-buttons\">\n",
              "\n",
              "  <div class=\"colab-df-container\">\n",
              "    <button class=\"colab-df-convert\" onclick=\"convertToInteractive('df-4ae00d3f-476c-4927-87db-162521fbe2d1')\"\n",
              "            title=\"Convert this dataframe to an interactive table.\"\n",
              "            style=\"display:none;\">\n",
              "\n",
              "  <svg xmlns=\"http://www.w3.org/2000/svg\" height=\"24px\" viewBox=\"0 -960 960 960\">\n",
              "    <path d=\"M120-120v-720h720v720H120Zm60-500h600v-160H180v160Zm220 220h160v-160H400v160Zm0 220h160v-160H400v160ZM180-400h160v-160H180v160Zm440 0h160v-160H620v160ZM180-180h160v-160H180v160Zm440 0h160v-160H620v160Z\"/>\n",
              "  </svg>\n",
              "    </button>\n",
              "\n",
              "  <style>\n",
              "    .colab-df-container {\n",
              "      display:flex;\n",
              "      gap: 12px;\n",
              "    }\n",
              "\n",
              "    .colab-df-convert {\n",
              "      background-color: #E8F0FE;\n",
              "      border: none;\n",
              "      border-radius: 50%;\n",
              "      cursor: pointer;\n",
              "      display: none;\n",
              "      fill: #1967D2;\n",
              "      height: 32px;\n",
              "      padding: 0 0 0 0;\n",
              "      width: 32px;\n",
              "    }\n",
              "\n",
              "    .colab-df-convert:hover {\n",
              "      background-color: #E2EBFA;\n",
              "      box-shadow: 0px 1px 2px rgba(60, 64, 67, 0.3), 0px 1px 3px 1px rgba(60, 64, 67, 0.15);\n",
              "      fill: #174EA6;\n",
              "    }\n",
              "\n",
              "    .colab-df-buttons div {\n",
              "      margin-bottom: 4px;\n",
              "    }\n",
              "\n",
              "    [theme=dark] .colab-df-convert {\n",
              "      background-color: #3B4455;\n",
              "      fill: #D2E3FC;\n",
              "    }\n",
              "\n",
              "    [theme=dark] .colab-df-convert:hover {\n",
              "      background-color: #434B5C;\n",
              "      box-shadow: 0px 1px 3px 1px rgba(0, 0, 0, 0.15);\n",
              "      filter: drop-shadow(0px 1px 2px rgba(0, 0, 0, 0.3));\n",
              "      fill: #FFFFFF;\n",
              "    }\n",
              "  </style>\n",
              "\n",
              "    <script>\n",
              "      const buttonEl =\n",
              "        document.querySelector('#df-4ae00d3f-476c-4927-87db-162521fbe2d1 button.colab-df-convert');\n",
              "      buttonEl.style.display =\n",
              "        google.colab.kernel.accessAllowed ? 'block' : 'none';\n",
              "\n",
              "      async function convertToInteractive(key) {\n",
              "        const element = document.querySelector('#df-4ae00d3f-476c-4927-87db-162521fbe2d1');\n",
              "        const dataTable =\n",
              "          await google.colab.kernel.invokeFunction('convertToInteractive',\n",
              "                                                    [key], {});\n",
              "        if (!dataTable) return;\n",
              "\n",
              "        const docLinkHtml = 'Like what you see? Visit the ' +\n",
              "          '<a target=\"_blank\" href=https://colab.research.google.com/notebooks/data_table.ipynb>data table notebook</a>'\n",
              "          + ' to learn more about interactive tables.';\n",
              "        element.innerHTML = '';\n",
              "        dataTable['output_type'] = 'display_data';\n",
              "        await google.colab.output.renderOutput(dataTable, element);\n",
              "        const docLink = document.createElement('div');\n",
              "        docLink.innerHTML = docLinkHtml;\n",
              "        element.appendChild(docLink);\n",
              "      }\n",
              "    </script>\n",
              "  </div>\n",
              "\n",
              "\n",
              "<div id=\"df-de5ca849-f1a5-43c9-8c14-ea29a3b4c336\">\n",
              "  <button class=\"colab-df-quickchart\" onclick=\"quickchart('df-de5ca849-f1a5-43c9-8c14-ea29a3b4c336')\"\n",
              "            title=\"Suggest charts\"\n",
              "            style=\"display:none;\">\n",
              "\n",
              "<svg xmlns=\"http://www.w3.org/2000/svg\" height=\"24px\"viewBox=\"0 0 24 24\"\n",
              "     width=\"24px\">\n",
              "    <g>\n",
              "        <path d=\"M19 3H5c-1.1 0-2 .9-2 2v14c0 1.1.9 2 2 2h14c1.1 0 2-.9 2-2V5c0-1.1-.9-2-2-2zM9 17H7v-7h2v7zm4 0h-2V7h2v10zm4 0h-2v-4h2v4z\"/>\n",
              "    </g>\n",
              "</svg>\n",
              "  </button>\n",
              "\n",
              "<style>\n",
              "  .colab-df-quickchart {\n",
              "      --bg-color: #E8F0FE;\n",
              "      --fill-color: #1967D2;\n",
              "      --hover-bg-color: #E2EBFA;\n",
              "      --hover-fill-color: #174EA6;\n",
              "      --disabled-fill-color: #AAA;\n",
              "      --disabled-bg-color: #DDD;\n",
              "  }\n",
              "\n",
              "  [theme=dark] .colab-df-quickchart {\n",
              "      --bg-color: #3B4455;\n",
              "      --fill-color: #D2E3FC;\n",
              "      --hover-bg-color: #434B5C;\n",
              "      --hover-fill-color: #FFFFFF;\n",
              "      --disabled-bg-color: #3B4455;\n",
              "      --disabled-fill-color: #666;\n",
              "  }\n",
              "\n",
              "  .colab-df-quickchart {\n",
              "    background-color: var(--bg-color);\n",
              "    border: none;\n",
              "    border-radius: 50%;\n",
              "    cursor: pointer;\n",
              "    display: none;\n",
              "    fill: var(--fill-color);\n",
              "    height: 32px;\n",
              "    padding: 0;\n",
              "    width: 32px;\n",
              "  }\n",
              "\n",
              "  .colab-df-quickchart:hover {\n",
              "    background-color: var(--hover-bg-color);\n",
              "    box-shadow: 0 1px 2px rgba(60, 64, 67, 0.3), 0 1px 3px 1px rgba(60, 64, 67, 0.15);\n",
              "    fill: var(--button-hover-fill-color);\n",
              "  }\n",
              "\n",
              "  .colab-df-quickchart-complete:disabled,\n",
              "  .colab-df-quickchart-complete:disabled:hover {\n",
              "    background-color: var(--disabled-bg-color);\n",
              "    fill: var(--disabled-fill-color);\n",
              "    box-shadow: none;\n",
              "  }\n",
              "\n",
              "  .colab-df-spinner {\n",
              "    border: 2px solid var(--fill-color);\n",
              "    border-color: transparent;\n",
              "    border-bottom-color: var(--fill-color);\n",
              "    animation:\n",
              "      spin 1s steps(1) infinite;\n",
              "  }\n",
              "\n",
              "  @keyframes spin {\n",
              "    0% {\n",
              "      border-color: transparent;\n",
              "      border-bottom-color: var(--fill-color);\n",
              "      border-left-color: var(--fill-color);\n",
              "    }\n",
              "    20% {\n",
              "      border-color: transparent;\n",
              "      border-left-color: var(--fill-color);\n",
              "      border-top-color: var(--fill-color);\n",
              "    }\n",
              "    30% {\n",
              "      border-color: transparent;\n",
              "      border-left-color: var(--fill-color);\n",
              "      border-top-color: var(--fill-color);\n",
              "      border-right-color: var(--fill-color);\n",
              "    }\n",
              "    40% {\n",
              "      border-color: transparent;\n",
              "      border-right-color: var(--fill-color);\n",
              "      border-top-color: var(--fill-color);\n",
              "    }\n",
              "    60% {\n",
              "      border-color: transparent;\n",
              "      border-right-color: var(--fill-color);\n",
              "    }\n",
              "    80% {\n",
              "      border-color: transparent;\n",
              "      border-right-color: var(--fill-color);\n",
              "      border-bottom-color: var(--fill-color);\n",
              "    }\n",
              "    90% {\n",
              "      border-color: transparent;\n",
              "      border-bottom-color: var(--fill-color);\n",
              "    }\n",
              "  }\n",
              "</style>\n",
              "\n",
              "  <script>\n",
              "    async function quickchart(key) {\n",
              "      const quickchartButtonEl =\n",
              "        document.querySelector('#' + key + ' button');\n",
              "      quickchartButtonEl.disabled = true;  // To prevent multiple clicks.\n",
              "      quickchartButtonEl.classList.add('colab-df-spinner');\n",
              "      try {\n",
              "        const charts = await google.colab.kernel.invokeFunction(\n",
              "            'suggestCharts', [key], {});\n",
              "      } catch (error) {\n",
              "        console.error('Error during call to suggestCharts:', error);\n",
              "      }\n",
              "      quickchartButtonEl.classList.remove('colab-df-spinner');\n",
              "      quickchartButtonEl.classList.add('colab-df-quickchart-complete');\n",
              "    }\n",
              "    (() => {\n",
              "      let quickchartButtonEl =\n",
              "        document.querySelector('#df-de5ca849-f1a5-43c9-8c14-ea29a3b4c336 button');\n",
              "      quickchartButtonEl.style.display =\n",
              "        google.colab.kernel.accessAllowed ? 'block' : 'none';\n",
              "    })();\n",
              "  </script>\n",
              "</div>\n",
              "\n",
              "    </div>\n",
              "  </div>\n"
            ],
            "application/vnd.google.colaboratory.intrinsic+json": {
              "type": "dataframe",
              "variable_name": "df",
              "summary": "{\n  \"name\": \"df\",\n  \"rows\": 3393,\n  \"fields\": [\n    {\n      \"column\": \"Dates\",\n      \"properties\": {\n        \"dtype\": \"object\",\n        \"num_unique_values\": 3393,\n        \"samples\": [\n          \"2011-08-30\",\n          \"2014-06-24\",\n          \"2018-10-26\"\n        ],\n        \"semantic_type\": \"\",\n        \"description\": \"\"\n      }\n    },\n    {\n      \"column\": \"Closed Price\",\n      \"properties\": {\n        \"dtype\": \"number\",\n        \"std\": 101.53955631108913,\n        \"min\": 1.053333044052124,\n        \"max\": 409.9700012207031,\n        \"num_unique_values\": 3201,\n        \"samples\": [\n          15.37399959564209,\n          14.023332595825195,\n          174.0399932861328\n        ],\n        \"semantic_type\": \"\",\n        \"description\": \"\"\n      }\n    },\n    {\n      \"column\": \"Combined_Desc\",\n      \"properties\": {\n        \"dtype\": \"string\",\n        \"num_unique_values\": 3393,\n        \"samples\": [\n          \"elon musk bets 1000000 get tesla ready time loings drive pushes nissan leaf european car year award hennessey performance upgrades ford mustang boss 302 automobile reporter dan neil made interesting bet elon musk tesla motors reports michael graham richard treehugger advertisement safe say nissan leaf would reigning european car year persistence pierre loing tuner guys hennessey performance took ford mustang boss 302 behind curtain plopped supercharger topamong thingsand\",\n          \"saleen tesla model revealed track test tune session saleen tesla model spy shots reveal track test tuning sessions buttonwillow raceway steve saleen sven etzelsberger\",\n          \"surprise tesla quietly taking luxury car market one year tesla safety update almost everyone wrong teslas cash flow situation tesla reduces price model 3 performance updated elon musk makes right introducing navigate autopilot vw ceo says theyll evs good teslas half price 2020 tesla says doj sought documents model 3 production guidance new hot wheels tesla roadster toy celebrates spacexlaunched car tesla shares updates workplace safety calosha investigation results embedded stats fact might please elon musk starting price 49000 tesla model 3while much affordable last october joined tesla oversee environmental health safety ehs team reporting directly elon regularly meeting ive enjoyed teslas full support expanded companys global ehs team 250 employees adding 35 people fremont factory alone past year clear nothing important tesla health wellbeing employees largest manufacturer state california us auto manufacturers continue outsource skilled jobs safety standards tesla creating keeping jobs right united states allowing us control quality safety directly result injury rate continued trend downward 2018 time tesla begun work new vehicle cash flow turned sharply negative tesla spent heavily design vehicle build mere two months production tesla reduced price model 3 performance upgrade package 5k effectively making free today us beginning roll advanced autopilot feature ever navigate autopilot since introducing software version 90 tesla owners enhanced autopilot driven tens millions miles support validation navigate autopilot allowing us collect performance safety data scale based realworld driving vw ceo says theyll evs good teslas half price 2020 volkswagen group made several ambitious claims effort go tesla inc asked earlier year us department justice documents projections model 3 sedan struggled greetings space reads postcardstyled backer card new hot wheels toy packaging features real image 2008 telsa roadster orbit recent blog post teslas official website laurie shelby elaborated companys safety programs rolled past year\"\n        ],\n        \"semantic_type\": \"\",\n        \"description\": \"\"\n      }\n    },\n    {\n      \"column\": \"Percentage_Change\",\n      \"properties\": {\n        \"dtype\": \"number\",\n        \"std\": 3.5874187582942305,\n        \"min\": -21.0628243203908,\n        \"max\": 24.395075824616303,\n        \"num_unique_values\": 3383,\n        \"samples\": [\n          1.726203723778874,\n          -2.7169879702494737,\n          -7.021863319202614\n        ],\n        \"semantic_type\": \"\",\n        \"description\": \"\"\n      }\n    },\n    {\n      \"column\": \"lemmatized_text\",\n      \"properties\": {\n        \"dtype\": \"string\",\n        \"num_unique_values\": 3393,\n        \"samples\": [\n          \"elon musk bet 1000000 get tesla ready time loings drive push nissan leaf european car year award hennessey performance upgrade ford mustang bos 302 automobile reporter dan neil made interesting bet elon musk tesla motor report michael graham richard treehugger advertisement safe say nissan leaf would reigning european car year persistence pierre loing tuner guy hennessey performance took ford mustang bos 302 behind curtain plopped supercharger topamong thingsand\",\n          \"saleen tesla model revealed track test tune session saleen tesla model spy shot reveal track test tuning session buttonwillow raceway steve saleen sven etzelsberger\",\n          \"surprise tesla quietly taking luxury car market one year tesla safety update almost everyone wrong tesla cash flow situation tesla reduces price model 3 performance updated elon musk make right introducing navigate autopilot vw ceo say theyll ev good tesla half price 2020 tesla say doj sought document model 3 production guidance new hot wheel tesla roadster toy celebrates spacexlaunched car tesla share update workplace safety calosha investigation result embedded stats fact might please elon musk starting price 49000 tesla model 3while much affordable last october joined tesla oversee environmental health safety ehs team reporting directly elon regularly meeting ive enjoyed tesla full support expanded company global ehs team 250 employee adding 35 people fremont factory alone past year clear nothing important tesla health wellbeing employee largest manufacturer state california u auto manufacturer continue outsource skilled job safety standard tesla creating keeping job right united state allowing u control quality safety directly result injury rate continued trend downward 2018 time tesla begun work new vehicle cash flow turned sharply negative tesla spent heavily design vehicle build mere two month production tesla reduced price model 3 performance upgrade package 5k effectively making free today u beginning roll advanced autopilot feature ever navigate autopilot since introducing software version 90 tesla owner enhanced autopilot driven ten million mile support validation navigate autopilot allowing u collect performance safety data scale based realworld driving vw ceo say theyll ev good tesla half price 2020 volkswagen group made several ambitious claim effort go tesla inc asked earlier year u department justice document projection model 3 sedan struggled greeting space read postcardstyled backer card new hot wheel toy packaging feature real image 2008 telsa roadster orbit recent blog post tesla official website laurie shelby elaborated company safety program rolled past year\"\n        ],\n        \"semantic_type\": \"\",\n        \"description\": \"\"\n      }\n    },\n    {\n      \"column\": \"embeddings\",\n      \"properties\": {\n        \"dtype\": \"string\",\n        \"num_unique_values\": 3381,\n        \"samples\": [\n          \"[0.         0.         0.         0.         0.         0.\\r\\n 0.21664175 0.         0.         0.         0.         0.\\r\\n 0.         0.15626779 0.         0.         0.         0.\\r\\n 0.         0.         0.         0.         0.         0.\\r\\n 0.         0.         0.         0.         0.22990008 0.\\r\\n 0.         0.04050431 0.         0.         0.         0.\\r\\n 0.05368655 0.04559627 0.05287783 0.         0.09370844 0.27187864\\r\\n 0.04616438 0.         0.         0.         0.         0.08880565\\r\\n 0.         0.         0.         0.32263487 0.         0.03536755\\r\\n 0.         0.         0.11989456 0.         0.         0.\\r\\n 0.         0.0969605  0.         0.         0.09156673 0.\\r\\n 0.         0.59169693 0.         0.         0.         0.\\r\\n 0.10675676 0.         0.         0.         0.         0.\\r\\n 0.         0.         0.05498346 0.         0.22733816 0.\\r\\n 0.         0.         0.43126584 0.05609191 0.         0.\\r\\n 0.         0.         0.         0.         0.15237413 0.\\r\\n 0.04878105 0.         0.         0.07232694]\",\n          \"[0.         0.         0.         0.         0.         0.\\r\\n 0.         0.         0.         0.         0.         0.\\r\\n 0.         0.         0.         0.         0.         0.\\r\\n 0.         0.         0.         0.         0.         0.\\r\\n 0.         0.         0.         0.         0.         0.\\r\\n 0.         0.         0.         0.         0.         0.\\r\\n 0.         0.         0.         0.         0.31796402 0.\\r\\n 0.         0.         0.         0.         0.         0.\\r\\n 0.         0.         0.         0.15639127 0.34683844 0.\\r\\n 0.         0.         0.61022499 0.         0.         0.31796402\\r\\n 0.         0.         0.         0.         0.         0.\\r\\n 0.         0.         0.         0.         0.         0.\\r\\n 0.         0.         0.         0.         0.         0.\\r\\n 0.         0.         0.         0.         0.         0.\\r\\n 0.         0.         0.         0.         0.         0.\\r\\n 0.         0.         0.         0.         0.41361898 0.\\r\\n 0.33103992 0.         0.         0.        ]\",\n          \"[0.         0.         0.         0.         0.21021351 0.\\r\\n 0.         0.         0.         0.         0.         0.\\r\\n 0.         0.19285121 0.         0.76554854 0.         0.\\r\\n 0.         0.         0.         0.         0.         0.\\r\\n 0.         0.         0.         0.         0.22067216 0.\\r\\n 0.         0.17495332 0.         0.         0.         0.\\r\\n 0.         0.         0.         0.         0.20238097 0.\\r\\n 0.         0.         0.         0.         0.         0.\\r\\n 0.         0.         0.         0.         0.         0.\\r\\n 0.225077   0.         0.1294674  0.         0.         0.\\r\\n 0.         0.         0.         0.         0.         0.\\r\\n 0.         0.         0.         0.         0.         0.\\r\\n 0.         0.         0.         0.         0.         0.\\r\\n 0.         0.         0.         0.         0.         0.21742004\\r\\n 0.         0.         0.         0.         0.         0.\\r\\n 0.         0.         0.         0.         0.         0.\\r\\n 0.         0.         0.         0.31240721]\"\n        ],\n        \"semantic_type\": \"\",\n        \"description\": \"\"\n      }\n    }\n  ]\n}"
            }
          },
          "metadata": {},
          "execution_count": 2
        }
      ]
    },
    {
      "cell_type": "code",
      "source": [
        "import numpy as np\n",
        "import pandas as pd\n",
        "from sklearn.metrics.pairwise import cosine_similarity\n",
        "from ast import literal_eval\n",
        "\n",
        "def convert_str_to_array(embed_str):\n",
        "    embed_str = embed_str[1:-1]\n",
        "    str_nums = embed_str.strip().split()\n",
        "    return np.array([float(num) for num in str_nums if num], dtype=float)\n",
        "\n",
        "df['embeddings'] = df['embeddings'].apply(convert_str_to_array)\n",
        "\n"
      ],
      "metadata": {
        "id": "OsRIJe0VgzVa"
      },
      "id": "OsRIJe0VgzVa",
      "execution_count": 3,
      "outputs": []
    },
    {
      "cell_type": "code",
      "source": [
        "import torch\n",
        "import torch.nn as nn\n",
        "from torch.utils.data import TensorDataset, DataLoader\n",
        "from sklearn.preprocessing import MinMaxScaler\n",
        "from sklearn.model_selection import train_test_split\n",
        "\n",
        "# Function to create sequences, same as before\n",
        "def create_sequences(data, sequence_length):\n",
        "    xs, ys, emb_seqs = [], [], []\n",
        "    for i in range(sequence_length, len(data)):\n",
        "        xs.append(data[i-sequence_length:i])\n",
        "        ys.append(data[i])\n",
        "    return np.array(xs), np.array(ys)\n",
        "\n",
        "# # Data preparation\n",
        "# sequence_length = 5\n",
        "# embeddings = df['embeddings']\n",
        "# X, y = create_sequences(df['Percentage_Change'].fillna(0).values, sequence_length)\n",
        "\n",
        "# # Scale the features\n",
        "# scaler = MinMaxScaler(feature_range=(0, 1))\n",
        "# X_scaled = scaler.fit_transform(X)\n",
        "\n",
        "# # Split the data\n",
        "# X_train, X_test, y_train, y_test = train_test_split(\n",
        "#     X_scaled, y, test_size=0.2, random_state=42)"
      ],
      "metadata": {
        "id": "FijTYehIsdAx"
      },
      "id": "FijTYehIsdAx",
      "execution_count": 4,
      "outputs": []
    },
    {
      "cell_type": "code",
      "source": [
        "import torch\n",
        "import torch.nn as nn\n",
        "\n",
        "class LSTMModel(nn.Module):\n",
        "    def __init__(self, input_dim, hidden_dim, num_layers, output_dim):\n",
        "        super(LSTMModel, self).__init__()\n",
        "        self.hidden_dim = hidden_dim\n",
        "        self.num_layers = num_layers\n",
        "\n",
        "        # LSTM layer\n",
        "        self.lstm = nn.LSTM(input_dim, hidden_dim, num_layers, batch_first=True)\n",
        "\n",
        "        # Fully connected output layer\n",
        "        self.linear = nn.Linear(hidden_dim, output_dim)\n",
        "\n",
        "    def forward(self, x):\n",
        "        # Initialize hidden state and cell state\n",
        "        h0 = torch.zeros(self.num_layers, x.size(0), self.hidden_dim).to(x.device)\n",
        "        c0 = torch.zeros(self.num_layers, x.size(0), self.hidden_dim).to(x.device)\n",
        "\n",
        "        # Forward pass through LSTM layer\n",
        "        lstm_out, _ = self.lstm(x, (h0, c0))\n",
        "\n",
        "        # Only take the output from the final time step\n",
        "        y_pred = self.linear(lstm_out[:, -1, :])\n",
        "        return y_pred\n"
      ],
      "metadata": {
        "id": "Rq--0was1W5s"
      },
      "id": "Rq--0was1W5s",
      "execution_count": 5,
      "outputs": []
    },
    {
      "cell_type": "code",
      "source": [
        "from sklearn.model_selection import KFold\n",
        "from itertools import product\n",
        "\n",
        "def find_parameters_train(X_train, X_test, y_train, y_test, sequence_length):\n",
        "  # Define hyperparameters to search\n",
        "  hidden_dims = [50, 100, 150, 200]  # Example hyperparameters\n",
        "  num_layers_options = [1, 2, 3, 4, 5]\n",
        "  learning_rates = [0.001, 0.01, 0.1]\n",
        "  num_epochs = 100\n",
        "  batch_size = 32\n",
        "\n",
        "  # Convert the whole training data to PyTorch tensors\n",
        "  X_train_tensor = torch.tensor(X_train.reshape(X_train.shape[0], X_train.shape[1], 1), dtype=torch.float32)\n",
        "  y_train_tensor = torch.tensor(y_train.reshape(-1, 1), dtype=torch.float32)\n",
        "\n",
        "  # K-Fold Cross Validation on the training set\n",
        "  n_splits = 5\n",
        "  kfold = KFold(n_splits=n_splits, shuffle=True, random_state=42)\n",
        "\n",
        "  # Prepare to track the validation loss across folds for each hyperparameter configuration\n",
        "  results = {}\n",
        "\n",
        "  # Loop over all possible combinations of hyperparameters\n",
        "  for hidden_dim, num_layers, lr in product(hidden_dims, num_layers_options, learning_rates):\n",
        "      fold_val_losses = []  # List to store each fold's validation loss for the current hyperparameter configuration\n",
        "\n",
        "      for fold, (train_ids, val_ids) in enumerate(kfold.split(X_train_tensor)):\n",
        "          # Prepare data loaders for the current fold\n",
        "          X_train_fold = X_train_tensor[train_ids]\n",
        "          y_train_fold = y_train_tensor[train_ids]\n",
        "          X_val_fold = X_train_tensor[val_ids]\n",
        "          y_val_fold = y_train_tensor[val_ids]\n",
        "\n",
        "          train_loader = DataLoader(TensorDataset(X_train_fold, y_train_fold), batch_size=batch_size, shuffle=True)\n",
        "          val_loader = DataLoader(TensorDataset(X_val_fold, y_val_fold), batch_size=batch_size)\n",
        "\n",
        "\n",
        "          # Define the LSTM model with the current set of hyperparameters\n",
        "          model = LSTMModel(input_dim=1, hidden_dim=hidden_dim, num_layers=num_layers, output_dim=1)\n",
        "\n",
        "          # Define the loss function and optimizer\n",
        "          criterion = nn.MSELoss()\n",
        "          optimizer = torch.optim.Adam(model.parameters(), lr=lr)\n",
        "\n",
        "          # Train the model on the training set of the current fold\n",
        "          for epoch in range(num_epochs):\n",
        "              model.train()  # Set the model to training mode\n",
        "              # Training loop (omitted for brevity)\n",
        "\n",
        "          # Validate the model on the validation set of the current fold\n",
        "          model.eval()  # Set the model to evaluation mode\n",
        "          fold_val_loss = 0.0\n",
        "          with torch.no_grad():\n",
        "              for X_batch, y_batch in val_loader:\n",
        "                  y_pred = model(X_batch)\n",
        "                  loss = criterion(y_pred, y_batch)\n",
        "                  fold_val_loss += loss.item()\n",
        "\n",
        "          fold_val_loss /= len(val_ids)  # Average the loss over the validation set\n",
        "          fold_val_losses.append(fold_val_loss)  # Store the result\n",
        "\n",
        "      # Calculate the average validation loss over all folds for the current hyperparameter configuration\n",
        "      avg_val_loss = np.mean(fold_val_losses)\n",
        "      results[(hidden_dim, num_layers, lr)] = avg_val_loss\n",
        "      # print(f\"Hidden Dim: {hidden_dim}, Num Layers: {num_layers}, LR: {lr}, Avg Val Loss: {avg_val_loss}\")\n",
        "\n",
        "  # Find the best hyperparameter configuration based on the average validation loss\n",
        "  best_hyperparams = min(results, key=results.get)\n",
        "  best_hidden_dim, best_num_layers, best_lr = best_hyperparams\n",
        "  print(f\"Best Hyperparams -> Hidden Dim: {best_hidden_dim}, Num Layers: {best_num_layers}, LR: {best_lr}\")\n",
        "\n",
        "  # Retrain the model on the full training set with the best hyperparameters\n",
        "  best_model = LSTMModel(input_dim=1, hidden_dim=best_hidden_dim, num_layers=best_num_layers, output_dim=1)\n",
        "  best_optimizer = torch.optim.Adam(best_model.parameters(), lr=best_lr)\n",
        "\n",
        "  # Convert the training and testing data to PyTorch tensors\n",
        "  X_train_tensor = torch.tensor(X_train.reshape(-1, sequence_length, 1), dtype=torch.float32)\n",
        "  y_train_tensor = torch.tensor(y_train, dtype=torch.float32)\n",
        "\n",
        "  X_test_tensor = torch.tensor(X_test.reshape(-1, sequence_length, 1), dtype=torch.float32)\n",
        "  y_test_tensor = torch.tensor(y_test, dtype=torch.float32)\n",
        "\n",
        "  # Create DataLoader for the training data\n",
        "  train_data_loader = DataLoader(TensorDataset(X_train_tensor, y_train_tensor), batch_size=32, shuffle=True)\n",
        "\n",
        "  criterion = nn.MSELoss()\n",
        "\n",
        "  # Train the model\n",
        "  num_epochs = 50  # Or any other number of epochs you deem appropriate\n",
        "  for epoch in range(num_epochs):\n",
        "      best_model.train()\n",
        "      for X_batch, y_batch in train_data_loader:\n",
        "          optimizer.zero_grad()\n",
        "          y_pred = best_model(X_batch)\n",
        "          loss = criterion(y_pred, y_batch)\n",
        "          loss.backward()\n",
        "          optimizer.step()\n",
        "      # print(f'Epoch {epoch+1}/{num_epochs}, Training Loss: {loss.item()}')\n",
        "\n",
        "  # Create DataLoader for the testing data\n",
        "  test_data_loader = DataLoader(TensorDataset(X_test_tensor, y_test_tensor), batch_size=32)\n",
        "\n",
        "  # Switch the model to evaluation mode\n",
        "  best_model.eval()\n",
        "\n",
        "  total_loss = 0.0\n",
        "  count_batches = 0\n",
        "\n",
        "  # No gradient calculation is needed during evaluation\n",
        "  with torch.no_grad():\n",
        "      for X_batch, y_batch in test_data_loader:\n",
        "          y_pred = best_model(X_batch)\n",
        "          # Squeeze the predictions to match the target's dimensions\n",
        "\n",
        "          loss = criterion(y_pred, y_batch)\n",
        "          total_loss += loss.item()\n",
        "          count_batches += 1\n",
        "\n",
        "  # Calculate the average loss over all batches\n",
        "  average_test_loss = total_loss / count_batches\n",
        "\n",
        "  return average_test_loss\n"
      ],
      "metadata": {
        "id": "f5P6MXBLvtJ1"
      },
      "id": "f5P6MXBLvtJ1",
      "execution_count": 6,
      "outputs": []
    },
    {
      "cell_type": "code",
      "source": [
        "MSE = []\n",
        "\n",
        "for i in range(1, 11):\n",
        "  X, y = create_sequences(df['Percentage_Change'].fillna(0).values, i)\n",
        "  # Scale the features\n",
        "  scaler = MinMaxScaler(feature_range=(0, 1))\n",
        "  X_scaled = scaler.fit_transform(X)\n",
        "\n",
        "  # Split the data\n",
        "  X_train, X_test, y_train, y_test = train_test_split(X_scaled, y, test_size=0.2, random_state=42)\n",
        "  mse = find_parameters_train(X_train, X_test, y_train, y_test, i)\n",
        "  MSE.append(mse)\n",
        "  print(f\"sequence length: {i}, mse: {mse}\")\n",
        "\n",
        "print(MSE)"
      ],
      "metadata": {
        "colab": {
          "base_uri": "https://localhost:8080/"
        },
        "id": "pGHSc_PPv50b",
        "outputId": "bbdfd74c-0214-4df6-fd4e-1b1b46c115ce"
      },
      "id": "pGHSc_PPv50b",
      "execution_count": 7,
      "outputs": [
        {
          "output_type": "stream",
          "name": "stdout",
          "text": [
            "Best Hyperparams -> Hidden Dim: 150, Num Layers: 2, LR: 0.1\n"
          ]
        },
        {
          "output_type": "stream",
          "name": "stderr",
          "text": [
            "/usr/local/lib/python3.10/dist-packages/torch/nn/modules/loss.py:535: UserWarning: Using a target size (torch.Size([32])) that is different to the input size (torch.Size([32, 1])). This will likely lead to incorrect results due to broadcasting. Please ensure they have the same size.\n",
            "  return F.mse_loss(input, target, reduction=self.reduction)\n",
            "/usr/local/lib/python3.10/dist-packages/torch/nn/modules/loss.py:535: UserWarning: Using a target size (torch.Size([25])) that is different to the input size (torch.Size([25, 1])). This will likely lead to incorrect results due to broadcasting. Please ensure they have the same size.\n",
            "  return F.mse_loss(input, target, reduction=self.reduction)\n",
            "/usr/local/lib/python3.10/dist-packages/torch/nn/modules/loss.py:535: UserWarning: Using a target size (torch.Size([7])) that is different to the input size (torch.Size([7, 1])). This will likely lead to incorrect results due to broadcasting. Please ensure they have the same size.\n",
            "  return F.mse_loss(input, target, reduction=self.reduction)\n"
          ]
        },
        {
          "output_type": "stream",
          "name": "stdout",
          "text": [
            "sequence length: 1, mse: 12.410541599447077\n",
            "Best Hyperparams -> Hidden Dim: 50, Num Layers: 1, LR: 0.001\n"
          ]
        },
        {
          "output_type": "stream",
          "name": "stderr",
          "text": [
            "/usr/local/lib/python3.10/dist-packages/torch/nn/modules/loss.py:535: UserWarning: Using a target size (torch.Size([32])) that is different to the input size (torch.Size([32, 1])). This will likely lead to incorrect results due to broadcasting. Please ensure they have the same size.\n",
            "  return F.mse_loss(input, target, reduction=self.reduction)\n",
            "/usr/local/lib/python3.10/dist-packages/torch/nn/modules/loss.py:535: UserWarning: Using a target size (torch.Size([24])) that is different to the input size (torch.Size([24, 1])). This will likely lead to incorrect results due to broadcasting. Please ensure they have the same size.\n",
            "  return F.mse_loss(input, target, reduction=self.reduction)\n",
            "/usr/local/lib/python3.10/dist-packages/torch/nn/modules/loss.py:535: UserWarning: Using a target size (torch.Size([7])) that is different to the input size (torch.Size([7, 1])). This will likely lead to incorrect results due to broadcasting. Please ensure they have the same size.\n",
            "  return F.mse_loss(input, target, reduction=self.reduction)\n"
          ]
        },
        {
          "output_type": "stream",
          "name": "stdout",
          "text": [
            "sequence length: 2, mse: 13.903932744806463\n",
            "Best Hyperparams -> Hidden Dim: 50, Num Layers: 3, LR: 0.01\n"
          ]
        },
        {
          "output_type": "stream",
          "name": "stderr",
          "text": [
            "/usr/local/lib/python3.10/dist-packages/torch/nn/modules/loss.py:535: UserWarning: Using a target size (torch.Size([32])) that is different to the input size (torch.Size([32, 1])). This will likely lead to incorrect results due to broadcasting. Please ensure they have the same size.\n",
            "  return F.mse_loss(input, target, reduction=self.reduction)\n",
            "/usr/local/lib/python3.10/dist-packages/torch/nn/modules/loss.py:535: UserWarning: Using a target size (torch.Size([24])) that is different to the input size (torch.Size([24, 1])). This will likely lead to incorrect results due to broadcasting. Please ensure they have the same size.\n",
            "  return F.mse_loss(input, target, reduction=self.reduction)\n",
            "/usr/local/lib/python3.10/dist-packages/torch/nn/modules/loss.py:535: UserWarning: Using a target size (torch.Size([6])) that is different to the input size (torch.Size([6, 1])). This will likely lead to incorrect results due to broadcasting. Please ensure they have the same size.\n",
            "  return F.mse_loss(input, target, reduction=self.reduction)\n"
          ]
        },
        {
          "output_type": "stream",
          "name": "stdout",
          "text": [
            "sequence length: 3, mse: 12.944123094732111\n",
            "Best Hyperparams -> Hidden Dim: 50, Num Layers: 5, LR: 0.1\n"
          ]
        },
        {
          "output_type": "stream",
          "name": "stderr",
          "text": [
            "/usr/local/lib/python3.10/dist-packages/torch/nn/modules/loss.py:535: UserWarning: Using a target size (torch.Size([32])) that is different to the input size (torch.Size([32, 1])). This will likely lead to incorrect results due to broadcasting. Please ensure they have the same size.\n",
            "  return F.mse_loss(input, target, reduction=self.reduction)\n",
            "/usr/local/lib/python3.10/dist-packages/torch/nn/modules/loss.py:535: UserWarning: Using a target size (torch.Size([23])) that is different to the input size (torch.Size([23, 1])). This will likely lead to incorrect results due to broadcasting. Please ensure they have the same size.\n",
            "  return F.mse_loss(input, target, reduction=self.reduction)\n",
            "/usr/local/lib/python3.10/dist-packages/torch/nn/modules/loss.py:535: UserWarning: Using a target size (torch.Size([6])) that is different to the input size (torch.Size([6, 1])). This will likely lead to incorrect results due to broadcasting. Please ensure they have the same size.\n",
            "  return F.mse_loss(input, target, reduction=self.reduction)\n"
          ]
        },
        {
          "output_type": "stream",
          "name": "stdout",
          "text": [
            "sequence length: 4, mse: 12.016738306392323\n",
            "Best Hyperparams -> Hidden Dim: 100, Num Layers: 2, LR: 0.001\n"
          ]
        },
        {
          "output_type": "stream",
          "name": "stderr",
          "text": [
            "/usr/local/lib/python3.10/dist-packages/torch/nn/modules/loss.py:535: UserWarning: Using a target size (torch.Size([32])) that is different to the input size (torch.Size([32, 1])). This will likely lead to incorrect results due to broadcasting. Please ensure they have the same size.\n",
            "  return F.mse_loss(input, target, reduction=self.reduction)\n",
            "/usr/local/lib/python3.10/dist-packages/torch/nn/modules/loss.py:535: UserWarning: Using a target size (torch.Size([22])) that is different to the input size (torch.Size([22, 1])). This will likely lead to incorrect results due to broadcasting. Please ensure they have the same size.\n",
            "  return F.mse_loss(input, target, reduction=self.reduction)\n",
            "/usr/local/lib/python3.10/dist-packages/torch/nn/modules/loss.py:535: UserWarning: Using a target size (torch.Size([6])) that is different to the input size (torch.Size([6, 1])). This will likely lead to incorrect results due to broadcasting. Please ensure they have the same size.\n",
            "  return F.mse_loss(input, target, reduction=self.reduction)\n"
          ]
        },
        {
          "output_type": "stream",
          "name": "stdout",
          "text": [
            "sequence length: 5, mse: 14.246330412951382\n",
            "Best Hyperparams -> Hidden Dim: 100, Num Layers: 4, LR: 0.001\n"
          ]
        },
        {
          "output_type": "stream",
          "name": "stderr",
          "text": [
            "/usr/local/lib/python3.10/dist-packages/torch/nn/modules/loss.py:535: UserWarning: Using a target size (torch.Size([32])) that is different to the input size (torch.Size([32, 1])). This will likely lead to incorrect results due to broadcasting. Please ensure they have the same size.\n",
            "  return F.mse_loss(input, target, reduction=self.reduction)\n",
            "/usr/local/lib/python3.10/dist-packages/torch/nn/modules/loss.py:535: UserWarning: Using a target size (torch.Size([21])) that is different to the input size (torch.Size([21, 1])). This will likely lead to incorrect results due to broadcasting. Please ensure they have the same size.\n",
            "  return F.mse_loss(input, target, reduction=self.reduction)\n",
            "/usr/local/lib/python3.10/dist-packages/torch/nn/modules/loss.py:535: UserWarning: Using a target size (torch.Size([6])) that is different to the input size (torch.Size([6, 1])). This will likely lead to incorrect results due to broadcasting. Please ensure they have the same size.\n",
            "  return F.mse_loss(input, target, reduction=self.reduction)\n"
          ]
        },
        {
          "output_type": "stream",
          "name": "stdout",
          "text": [
            "sequence length: 6, mse: 11.986624782735651\n",
            "Best Hyperparams -> Hidden Dim: 50, Num Layers: 5, LR: 0.1\n"
          ]
        },
        {
          "output_type": "stream",
          "name": "stderr",
          "text": [
            "/usr/local/lib/python3.10/dist-packages/torch/nn/modules/loss.py:535: UserWarning: Using a target size (torch.Size([32])) that is different to the input size (torch.Size([32, 1])). This will likely lead to incorrect results due to broadcasting. Please ensure they have the same size.\n",
            "  return F.mse_loss(input, target, reduction=self.reduction)\n",
            "/usr/local/lib/python3.10/dist-packages/torch/nn/modules/loss.py:535: UserWarning: Using a target size (torch.Size([20])) that is different to the input size (torch.Size([20, 1])). This will likely lead to incorrect results due to broadcasting. Please ensure they have the same size.\n",
            "  return F.mse_loss(input, target, reduction=self.reduction)\n",
            "/usr/local/lib/python3.10/dist-packages/torch/nn/modules/loss.py:535: UserWarning: Using a target size (torch.Size([6])) that is different to the input size (torch.Size([6, 1])). This will likely lead to incorrect results due to broadcasting. Please ensure they have the same size.\n",
            "  return F.mse_loss(input, target, reduction=self.reduction)\n"
          ]
        },
        {
          "output_type": "stream",
          "name": "stdout",
          "text": [
            "sequence length: 7, mse: 12.992815505374562\n",
            "Best Hyperparams -> Hidden Dim: 50, Num Layers: 2, LR: 0.01\n"
          ]
        },
        {
          "output_type": "stream",
          "name": "stderr",
          "text": [
            "/usr/local/lib/python3.10/dist-packages/torch/nn/modules/loss.py:535: UserWarning: Using a target size (torch.Size([32])) that is different to the input size (torch.Size([32, 1])). This will likely lead to incorrect results due to broadcasting. Please ensure they have the same size.\n",
            "  return F.mse_loss(input, target, reduction=self.reduction)\n",
            "/usr/local/lib/python3.10/dist-packages/torch/nn/modules/loss.py:535: UserWarning: Using a target size (torch.Size([20])) that is different to the input size (torch.Size([20, 1])). This will likely lead to incorrect results due to broadcasting. Please ensure they have the same size.\n",
            "  return F.mse_loss(input, target, reduction=self.reduction)\n",
            "/usr/local/lib/python3.10/dist-packages/torch/nn/modules/loss.py:535: UserWarning: Using a target size (torch.Size([5])) that is different to the input size (torch.Size([5, 1])). This will likely lead to incorrect results due to broadcasting. Please ensure they have the same size.\n",
            "  return F.mse_loss(input, target, reduction=self.reduction)\n"
          ]
        },
        {
          "output_type": "stream",
          "name": "stdout",
          "text": [
            "sequence length: 8, mse: 12.212422782724554\n",
            "Best Hyperparams -> Hidden Dim: 200, Num Layers: 1, LR: 0.1\n"
          ]
        },
        {
          "output_type": "stream",
          "name": "stderr",
          "text": [
            "/usr/local/lib/python3.10/dist-packages/torch/nn/modules/loss.py:535: UserWarning: Using a target size (torch.Size([32])) that is different to the input size (torch.Size([32, 1])). This will likely lead to incorrect results due to broadcasting. Please ensure they have the same size.\n",
            "  return F.mse_loss(input, target, reduction=self.reduction)\n",
            "/usr/local/lib/python3.10/dist-packages/torch/nn/modules/loss.py:535: UserWarning: Using a target size (torch.Size([19])) that is different to the input size (torch.Size([19, 1])). This will likely lead to incorrect results due to broadcasting. Please ensure they have the same size.\n",
            "  return F.mse_loss(input, target, reduction=self.reduction)\n",
            "/usr/local/lib/python3.10/dist-packages/torch/nn/modules/loss.py:535: UserWarning: Using a target size (torch.Size([5])) that is different to the input size (torch.Size([5, 1])). This will likely lead to incorrect results due to broadcasting. Please ensure they have the same size.\n",
            "  return F.mse_loss(input, target, reduction=self.reduction)\n"
          ]
        },
        {
          "output_type": "stream",
          "name": "stdout",
          "text": [
            "sequence length: 9, mse: 10.93243460221724\n",
            "Best Hyperparams -> Hidden Dim: 50, Num Layers: 5, LR: 0.01\n"
          ]
        },
        {
          "output_type": "stream",
          "name": "stderr",
          "text": [
            "/usr/local/lib/python3.10/dist-packages/torch/nn/modules/loss.py:535: UserWarning: Using a target size (torch.Size([32])) that is different to the input size (torch.Size([32, 1])). This will likely lead to incorrect results due to broadcasting. Please ensure they have the same size.\n",
            "  return F.mse_loss(input, target, reduction=self.reduction)\n",
            "/usr/local/lib/python3.10/dist-packages/torch/nn/modules/loss.py:535: UserWarning: Using a target size (torch.Size([18])) that is different to the input size (torch.Size([18, 1])). This will likely lead to incorrect results due to broadcasting. Please ensure they have the same size.\n",
            "  return F.mse_loss(input, target, reduction=self.reduction)\n"
          ]
        },
        {
          "output_type": "stream",
          "name": "stdout",
          "text": [
            "sequence length: 10, mse: 12.041189432144165\n",
            "[12.410541599447077, 13.903932744806463, 12.944123094732111, 12.016738306392323, 14.246330412951382, 11.986624782735651, 12.992815505374562, 12.212422782724554, 10.93243460221724, 12.041189432144165]\n"
          ]
        },
        {
          "output_type": "stream",
          "name": "stderr",
          "text": [
            "/usr/local/lib/python3.10/dist-packages/torch/nn/modules/loss.py:535: UserWarning: Using a target size (torch.Size([5])) that is different to the input size (torch.Size([5, 1])). This will likely lead to incorrect results due to broadcasting. Please ensure they have the same size.\n",
            "  return F.mse_loss(input, target, reduction=self.reduction)\n"
          ]
        }
      ]
    },
    {
      "cell_type": "code",
      "source": [
        "days_range = list(range(1, 11))\n",
        "\n",
        "plt.figure(figsize = (10, 6))\n",
        "plt.plot(days_range, MSE, marker = 'o', linestyle = '-', color = 'b')\n",
        "\n",
        "plt.title('MSE vs Days Range')\n",
        "plt.xlabel(\"Days Range\")\n",
        "plt.ylabel(\"MSE\")\n",
        "\n",
        "plt.xticks(days_range)\n",
        "\n",
        "for day, mse in zip(days_range, MSE):\n",
        "    plt.text(day, mse + 0.05, f'{mse:.2f}', ha='center', va='bottom')\n",
        "\n",
        "plt.grid(True)\n",
        "\n",
        "plt.show()"
      ],
      "metadata": {
        "colab": {
          "base_uri": "https://localhost:8080/",
          "height": 564
        },
        "id": "OUpRtFahDtmP",
        "outputId": "2d74e4f7-01c0-4826-e53a-bf8a85cc1c85"
      },
      "id": "OUpRtFahDtmP",
      "execution_count": 9,
      "outputs": [
        {
          "output_type": "display_data",
          "data": {
            "text/plain": [
              "<Figure size 1000x600 with 1 Axes>"
            ],
            "image/png": "[encoded data removed]"
          },
          "metadata": {}
        }
      ]
    }
  ],
  "metadata": {
    "kernelspec": {
      "display_name": "Python 3 (ipykernel)",
      "language": "python",
      "name": "python3"
    },
    "language_info": {
      "codemirror_mode": {
        "name": "ipython",
        "version": 3
      },
      "file_extension": ".py",
      "mimetype": "text/x-python",
      "name": "python",
      "nbconvert_exporter": "python",
      "pygments_lexer": "ipython3",
      "version": "3.10.6"
    },
    "colab": {
      "provenance": []
    }
  },
  "nbformat": 4,
  "nbformat_minor": 5
}