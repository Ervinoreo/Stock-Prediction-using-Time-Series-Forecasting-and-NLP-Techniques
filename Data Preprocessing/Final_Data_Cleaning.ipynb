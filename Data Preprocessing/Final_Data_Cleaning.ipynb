{
  "nbformat": 4,
  "nbformat_minor": 0,
  "metadata": {
    "colab": {
      "provenance": []
    },
    "kernelspec": {
      "name": "python3",
      "display_name": "Python 3"
    },
    "language_info": {
      "name": "python"
    }
  },
  "cells": [
    {
      "cell_type": "code",
      "execution_count": 36,
      "metadata": {
        "colab": {
          "base_uri": "https://localhost:8080/"
        },
        "id": "SC9zJbjzwanu",
        "outputId": "e8e7ec23-3ca6-48e8-9b02-c5688d52efb4"
      },
      "outputs": [
        {
          "output_type": "stream",
          "name": "stdout",
          "text": [
            "['Headlines', 'Dates', 'Descriptions', 'Closed Price', 'Percentage_change', 'Combine']\n",
            "2013 Tesla Roadster to be completely built in-houseWe've been poring over Tesla's IPO filing with the SEC and hidden within the indecipherable legalese is a little gem for those of us more interested in...\n",
            "['Tesla Motors IPO a win, but road ahead is bumpy', '2010-06-29', \"The Tesla Motors IPO sold out quickly, and shares of the company rose 41 percent in their first day of trading. But Tesla's ability to navigate the...\", '1.5926669836044312', 0, \"Tesla Motors IPO a win, but road ahead is bumpyThe Tesla Motors IPO sold out quickly, and shares of the company rose 41 percent in their first day of trading. But Tesla's ability to navigate the...\"]\n",
            "CSV file edited successfully.\n"
          ]
        }
      ],
      "source": [
        "import csv\n",
        "\n",
        "with open(\"tesla_data.csv\", \"r\") as file:\n",
        "  reader = csv.reader(file)\n",
        "  data = list(reader)\n",
        "  data[0].extend([\"Percentage_change\", \"Combine\"])\n",
        "\n",
        "print(data[0])\n",
        "\n",
        "data[1].append(0)\n",
        "sentence = data[1][0] + data[1][2]\n",
        "data[1].append(sentence)\n",
        "\n",
        "print(data[1][5])\n",
        "\n",
        "\n",
        "percentage = data[1][4]\n",
        "price = data[1][3]\n",
        "for i in range(2, len(data)):\n",
        "  sentence = data[i][0] + data[i][2]\n",
        "  if data[i][3] == price:\n",
        "    data[i].append(percentage)\n",
        "  else:\n",
        "    data[i].append((float(data[i][3]) - float(price)) * 100 / float(price))\n",
        "    date = data[i][1]\n",
        "    percentage = data[i][4]\n",
        "    price = data[i][3]\n",
        "  data[i].append(sentence)\n",
        "\n",
        "print(data[5])\n",
        "\n",
        "with open('tesla_final_data.csv', 'w', newline='') as file:\n",
        "    writer = csv.writer(file)\n",
        "    writer.writerows(data)\n",
        "\n",
        "print(\"CSV file edited successfully.\")"
      ]
    }
  ]
}