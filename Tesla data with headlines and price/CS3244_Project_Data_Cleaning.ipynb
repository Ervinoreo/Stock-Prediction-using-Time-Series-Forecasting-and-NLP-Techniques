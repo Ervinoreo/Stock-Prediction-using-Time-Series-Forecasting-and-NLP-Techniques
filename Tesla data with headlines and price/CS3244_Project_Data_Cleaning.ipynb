{
  "nbformat": 4,
  "nbformat_minor": 0,
  "metadata": {
    "colab": {
      "provenance": []
    },
    "kernelspec": {
      "name": "python3",
      "display_name": "Python 3"
    },
    "language_info": {
      "name": "python"
    }
  },
  "cells": [
    {
      "cell_type": "code",
      "execution_count": 1,
      "metadata": {
        "id": "CHeHM-0LTSya"
      },
      "outputs": [],
      "source": [
        "# Scrape a duration of stock data\n",
        "import yfinance as yf\n",
        "\n",
        "def closed_price_yf(company_symbol, start_date, end_date):\n",
        "  stock_data = yf.download(company_symbol, start = start_date, end = end_date)\n",
        "  # Make 'Date' into regular column\n",
        "  stock_data_reset = stock_data.reset_index()\n",
        "  # Selecting 'Date' and 'Close' Column\n",
        "  selected_data = stock_data_reset[['Date', 'Close']]\n",
        "  # Store data in dictionary\n",
        "  stock_dict = dict(zip(selected_data['Date'].astype(str), selected_data['Close']))\n",
        "  return stock_dict\n",
        "\n",
        "\n",
        "# closed_price_yf(company_symbol, start_date, end_date)"
      ]
    },
    {
      "cell_type": "code",
      "source": [
        "import csv\n",
        "\n",
        "company_symbol = 'AAPL'\n",
        "start_date = '2006-01-01'\n",
        "end_date = '2024-03-10'\n",
        "\n",
        "with open(\"cleaned_tesla_headlines.csv\", \"r\") as file:\n",
        "  reader = csv.reader(file)\n",
        "  data = list(reader)\n",
        "\n",
        "data[0].append(\"Closed Price\")\n",
        "\n",
        "yf_price = closed_price_yf(company_symbol, start_date, end_date)\n",
        "\n",
        "# print(yf_price)\n",
        "\n",
        "final_data = [data[0]]\n",
        "\n",
        "# Store closed price data into the column 'Closed Price' if it exists, skip the row if it is not\n",
        "for i in range(1, len(data)):\n",
        "  row = data[i]\n",
        "  if data[i][1] in yf_price:\n",
        "    row.append(yf_price[data[i][1]])\n",
        "    final_data.append(row)\n",
        "\n",
        "\n",
        "print(final_data[:2])\n",
        "print(len(final_data))\n",
        "\n",
        "\n",
        "with open('tesla_data.csv', 'w', newline='') as file:\n",
        "    writer = csv.writer(file)\n",
        "    writer.writerows(final_data)\n",
        "\n",
        "print(\"CSV file edited successfully.\")"
      ],
      "metadata": {
        "colab": {
          "base_uri": "https://localhost:8080/"
        },
        "id": "T61EpacdV2er",
        "outputId": "5e8e7e6b-6725-480f-97f0-e90f9ad04c10"
      },
      "execution_count": 6,
      "outputs": [
        {
          "output_type": "stream",
          "name": "stderr",
          "text": [
            "\r[*********************100%%**********************]  1 of 1 completed\n"
          ]
        },
        {
          "output_type": "stream",
          "name": "stdout",
          "text": [
            "[['Headlines', 'Dates', 'Descriptions', 'Closed Price'], ['Attitude', '2006-07-19', 'Welcome to the inaugural edition of the Tesla Motors blog. This is my space to comment without marketing filters. I have quite a few subjects I want to talk about over the next several months, but I will also look to you, my readers, for suggestions and ideas for future topics. I expect this to be a lively conversation.\\n\\n\\n\\nToday, I will talk about what we are doing here at Tesla, and why it is different than any car company that has come before.', 1.932142972946167]]\n",
            "12781\n",
            "CSV file edited successfully.\n"
          ]
        }
      ]
    }
  ]
}