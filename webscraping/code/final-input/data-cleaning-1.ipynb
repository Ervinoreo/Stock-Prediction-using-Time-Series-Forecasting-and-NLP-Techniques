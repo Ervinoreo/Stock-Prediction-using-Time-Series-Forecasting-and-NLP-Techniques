{
  "cells": [
    {
      "cell_type": "code",
      "execution_count": null,
      "metadata": {
        "colab": {
          "base_uri": "https://localhost:8080/"
        },
        "id": "SC9zJbjzwanu",
        "outputId": "d662d07b-593d-4c89-fe2e-eb572f97451e"
      },
      "outputs": [
        {
          "name": "stdout",
          "output_type": "stream",
          "text": [
            "['Headlines', 'Dates', 'Descriptions', 'Closed Price', 'Percentage_change', 'Combine']\n",
            "['2010-06-29', '1.5926669836044312', 0]\n",
            "CSV file edited successfully.\n"
          ]
        }
      ],
      "source": [
        "import csv\n",
        "\n",
        "with open(\"tesla_data.csv\", \"r\") as file:\n",
        "  reader = csv.reader(file)\n",
        "  data = list(reader)\n",
        "  data[0].extend([\"Percentage_change\", \"Combine\"])\n",
        "\n",
        "print(data[0])\n",
        "\n",
        "result = [[\"Dates\", \"Closed_Price\", \"Percentage_change\", \"Combine_headlines\"]]\n",
        "\n",
        "date = data[1][1]\n",
        "price = data[1][3]\n",
        "percentage = 0\n",
        "row = []\n",
        "combine_sentence = data[1][0] + \" \" + data[1][2] + \" \"\n",
        "row.extend([date, price, percentage])\n",
        "\n",
        "print(row)\n",
        "\n",
        "for i in range(2, len(data)):\n",
        "  if data[i][3] == price and data[i][1] == date:\n",
        "    sentence = data[i][0] + \" \" + data[i][2] + \" \"\n",
        "    combine_sentence += sentence\n",
        "  else:\n",
        "    row.append(combine_sentence)\n",
        "    result.append(row)\n",
        "    percentage = (float(data[i][3]) - float(price)) * 100 / float(price)\n",
        "    date = data[i][1]\n",
        "    price = data[i][3]\n",
        "    row = []\n",
        "    combine_sentence = data[i][0] + \" \" + data[1][2] + \" \"\n",
        "    row.extend([date, price, percentage])\n",
        "\n",
        "row.append(combine_sentence)\n",
        "result.append(row)\n",
        "\n",
        "with open('Tesla_Final.csv', 'w', newline='') as file:\n",
        "    writer = csv.writer(file)\n",
        "    writer.writerows(result)\n",
        "\n",
        "print(\"CSV file edited successfully.\")"
      ]
    }
  ],
  "metadata": {
    "colab": {
      "provenance": []
    },
    "kernelspec": {
      "display_name": "Python 3",
      "name": "python3"
    },
    "language_info": {
      "name": "python"
    }
  },
  "nbformat": 4,
  "nbformat_minor": 0
}
