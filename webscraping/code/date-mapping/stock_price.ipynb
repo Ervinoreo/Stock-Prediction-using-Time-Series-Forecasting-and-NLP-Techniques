{
 "cells": [
  {
   "cell_type": "code",
   "execution_count": 1,
   "metadata": {},
   "outputs": [],
   "source": [
    "import yfinance as yf\n",
    "import pandas as pd"
   ]
  },
  {
   "cell_type": "code",
   "execution_count": 2,
   "metadata": {},
   "outputs": [
    {
     "name": "stderr",
     "output_type": "stream",
     "text": [
      "[*********************100%%**********************]  1 of 1 completed"
     ]
    },
    {
     "name": "stdout",
     "output_type": "stream",
     "text": [
      "Stock data saved to 'stock_price.csv'\n"
     ]
    },
    {
     "name": "stderr",
     "output_type": "stream",
     "text": [
      "\n"
     ]
    }
   ],
   "source": [
    "stock_data = yf.download('TSLA', start = '2010-06-29', end = '2023-12-31')\n",
    "\n",
    "stock_data_df = pd.DataFrame(stock_data)\n",
    "\n",
    "csv_file_path = 'stock_price.csv' \n",
    "stock_data_df.to_csv(csv_file_path)\n",
    "\n",
    "print(f\"Stock data saved to '{csv_file_path}'\")"
   ]
  }
 ],
 "metadata": {
  "kernelspec": {
   "display_name": "Python 3.10.6 ('venv')",
   "language": "python",
   "name": "python3"
  },
  "language_info": {
   "codemirror_mode": {
    "name": "ipython",
    "version": 3
   },
   "file_extension": ".py",
   "mimetype": "text/x-python",
   "name": "python",
   "nbconvert_exporter": "python",
   "pygments_lexer": "ipython3",
   "version": "3.10.6"
  },
  "vscode": {
   "interpreter": {
    "hash": "b8b607159620bee12876ecb412eb853004b7964eda41c10d210b9f9154cb407c"
   }
  }
 },
 "nbformat": 4,
 "nbformat_minor": 2
}
