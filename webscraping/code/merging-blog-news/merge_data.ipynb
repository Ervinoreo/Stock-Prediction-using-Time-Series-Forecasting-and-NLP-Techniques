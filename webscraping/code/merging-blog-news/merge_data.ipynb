{
 "cells": [
  {
   "cell_type": "code",
   "execution_count": 17,
   "id": "8150cb08-e766-41a0-9f4a-2a58f3bc89f7",
   "metadata": {},
   "outputs": [],
   "source": [
    "import os\n",
    "import pandas as pd\n",
    "from datetime import datetime"
   ]
  },
  {
   "cell_type": "code",
   "execution_count": 18,
   "id": "65e534c0-5579-4ca3-b5f5-6de81e1d08ac",
   "metadata": {},
   "outputs": [],
   "source": [
    "folder_path = r'../google_news'\n",
    "csv_files = [f for f in os.listdir(folder_path) if f.endswith('.csv')]"
   ]
  },
  {
   "cell_type": "code",
   "execution_count": 19,
   "id": "42778b9e-a42e-4b6f-a5ac-924efa62aeb1",
   "metadata": {},
   "outputs": [],
   "source": [
    "dfs = []\n",
    "# Loop through each CSV file in google news\n",
    "for csv_file in csv_files:\n",
    "    file_path = os.path.join(folder_path, csv_file)\n",
    "    df = pd.read_csv(file_path)\n",
    "    dfs.append(df)\n",
    "\n",
    "\n",
    "merged_df = pd.concat(dfs, ignore_index = True)\n",
    "#print(merged_df)t"
   ]
  },
  {
   "cell_type": "code",
   "execution_count": 20,
   "id": "9c5febb6-9074-424c-a496-8b6daa27cd6a",
   "metadata": {},
   "outputs": [],
   "source": [
    "# Convert google news dates\n",
    "def convert_to_datetime(dates):\n",
    "    list = dates.split(\" \")\n",
    "    day = list[0]\n",
    "    month = list[1][:3]\n",
    "    year = list[2]\n",
    "    date = f\"{day} {month} {year}\"\n",
    "    return datetime.strptime(date, \"%d %b %Y\")\n",
    "\n",
    "merged_df['Dates'] = merged_df['Dates'].apply(convert_to_datetime)\n"
   ]
  },
  {
   "cell_type": "code",
   "execution_count": 21,
   "id": "43c50708-8c69-4390-8f56-d52e8d3bb071",
   "metadata": {},
   "outputs": [],
   "source": [
    "# Merge google_news_csv with tesla_blog_news\n",
    "tesla_blog_path = r'../tesla_blog/tesla_blog_news.csv'\n",
    "df2 = pd.read_csv(tesla_blog_path)\n",
    "#print(df2['Dates'])\n"
   ]
  },
  {
   "cell_type": "code",
   "execution_count": 22,
   "id": "18681139-6a8a-4a29-8ee0-c9817159f4fd",
   "metadata": {},
   "outputs": [],
   "source": [
    "# Convert tesla blog dates\n",
    "def convert_to_datetime(dates):\n",
    "    list = dates.split(\", \")\n",
    "    month_day = list[-2]\n",
    "    year = list[-1]\n",
    "    date = f\"{month_day} {year}\"\n",
    "    return datetime.strptime(date, \"%B %d %Y\")\n",
    "\n",
    "df2['Dates'] = df2['Dates'].apply(convert_to_datetime)"
   ]
  },
  {
   "cell_type": "code",
   "execution_count": 23,
   "id": "a62f19e6-ecb2-4b36-9df2-7475b8b36dd9",
   "metadata": {},
   "outputs": [],
   "source": [
    "# Concat google news and tesla blog \n",
    "final_df = pd.concat([merged_df, df2], ignore_index = True)\n",
    "\n",
    "# Sort data by dates\n",
    "final_df.sort_values(by=['Dates'], inplace=True)"
   ]
  },
  {
   "cell_type": "code",
   "execution_count": 24,
   "id": "ab8dd19f-60db-40ab-a05d-49c3c12db9ed",
   "metadata": {},
   "outputs": [],
   "source": [
    "# final_df to csv\n",
    "final_df.to_csv('merged_tesla_headlines.csv', index = False)"
   ]
  }
 ],
 "metadata": {
  "kernelspec": {
   "display_name": "Python 3.10.6 ('venv')",
   "language": "python",
   "name": "python3"
  },
  "language_info": {
   "codemirror_mode": {
    "name": "ipython",
    "version": 3
   },
   "file_extension": ".py",
   "mimetype": "text/x-python",
   "name": "python",
   "nbconvert_exporter": "python",
   "pygments_lexer": "ipython3",
   "version": "3.10.6"
  },
  "vscode": {
   "interpreter": {
    "hash": "b8b607159620bee12876ecb412eb853004b7964eda41c10d210b9f9154cb407c"
   }
  }
 },
 "nbformat": 4,
 "nbformat_minor": 5
}
