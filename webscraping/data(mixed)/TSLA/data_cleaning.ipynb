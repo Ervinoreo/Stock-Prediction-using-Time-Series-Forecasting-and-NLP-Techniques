{
  "cells": [
    {
      "cell_type": "code",
      "execution_count": 1,
      "metadata": {
        "id": "CHeHM-0LTSya"
      },
      "outputs": [],
      "source": [
        "# Scrape a duration of stock data\n",
        "import yfinance as yf\n",
        "\n",
        "def closed_price_yf(company_symbol, start_date, end_date):\n",
        "  stock_data = yf.download(company_symbol, start = start_date, end = end_date)\n",
        "  # Make 'Date' into regular column\n",
        "  stock_data_reset = stock_data.reset_index()\n",
        "  # Selecting 'Date' and 'Close' Column\n",
        "  selected_data = stock_data_reset[['Date', 'Close']]\n",
        "  # Store data in dictionary\n",
        "  stock_dict = dict(zip(selected_data['Date'].astype(str), selected_data['Close']))\n",
        "  return stock_dict\n",
        "\n",
        "\n",
        "# closed_price_yf(company_symbol, start_date, end_date)"
      ]
    },
    {
      "cell_type": "code",
      "execution_count": 2,
      "metadata": {
        "colab": {
          "base_uri": "https://localhost:8080/"
        },
        "id": "T61EpacdV2er",
        "outputId": "5e8e7e6b-6725-480f-97f0-e90f9ad04c10"
      },
      "outputs": [
        {
          "name": "stderr",
          "output_type": "stream",
          "text": [
            "[*********************100%%**********************]  1 of 1 completed"
          ]
        },
        {
          "name": "stdout",
          "output_type": "stream",
          "text": [
            "[['Headlines', 'Dates', 'Descriptions', 'Closed Price'], ['TSLA: Tesla IPO has investors giddy but auto experts wary - Jun. 29, 2010', '2010-06-29', 'Welcome TSLA: Tesla Motors raises $266 million in IPO ... NEW YORK (CNNMoney.com) -- Investors snapped up shares of Tesla Motors public debut on Tuesday, which...', 1.5926669836044312]]\n",
            "12756\n",
            "CSV file edited successfully.\n"
          ]
        },
        {
          "name": "stderr",
          "output_type": "stream",
          "text": [
            "\n"
          ]
        }
      ],
      "source": [
        "import csv\n",
        "\n",
        "company_symbol = 'TSLA'\n",
        "start_date = '2010-06-29'\n",
        "end_date = '2023-12-29'\n",
        "\n",
        "with open(\"../../data(words)/TSLA/merge_data(words)/merged_tesla_headlines.csv\", \"r\") as file:\n",
        "  reader = csv.reader(file)\n",
        "  data = list(reader)\n",
        "\n",
        "data[0].append(\"Closed Price\")\n",
        "\n",
        "yf_price = closed_price_yf(company_symbol, start_date, end_date)\n",
        "\n",
        "# print(yf_price)\n",
        "\n",
        "final_data = [data[0]]\n",
        "\n",
        "# Store closed price data into the column 'Closed Price' if it exists, skip the row if it is not\n",
        "for i in range(1, len(data)):\n",
        "  row = data[i]\n",
        "  if data[i][1] in yf_price:\n",
        "    row.append(yf_price[data[i][1]])\n",
        "    final_data.append(row)\n",
        "\n",
        "\n",
        "print(final_data[:2])\n",
        "print(len(final_data))\n",
        "\n",
        "\n",
        "with open('tesla_data.csv', 'w', newline='') as file:\n",
        "    writer = csv.writer(file)\n",
        "    writer.writerows(final_data)\n",
        "\n",
        "print(\"CSV file edited successfully.\")"
      ]
    }
  ],
  "metadata": {
    "colab": {
      "provenance": []
    },
    "kernelspec": {
      "display_name": "Python 3",
      "name": "python3"
    },
    "language_info": {
      "codemirror_mode": {
        "name": "ipython",
        "version": 3
      },
      "file_extension": ".py",
      "mimetype": "text/x-python",
      "name": "python",
      "nbconvert_exporter": "python",
      "pygments_lexer": "ipython3",
      "version": "3.10.7"
    }
  },
  "nbformat": 4,
  "nbformat_minor": 0
}
